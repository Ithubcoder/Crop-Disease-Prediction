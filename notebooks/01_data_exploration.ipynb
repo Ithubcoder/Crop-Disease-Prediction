{
  "cells": [
    {
      "cell_type": "code",
      "execution_count": null,
      "metadata": {
        "colab": {
          "base_uri": "https://localhost:8080/",
          "height": 211
        },
        "collapsed": true,
        "id": "Vxqne2ExPj6e",
        "outputId": "bc4008df-b555-4e53-c5d0-d7ae94d97317"
      },
      "outputs": [
        {
          "ename": "ModuleNotFoundError",
          "evalue": "No module named 'seaborn'",
          "output_type": "error",
          "traceback": [
            "\u001b[1;31m---------------------------------------------------------------------------\u001b[0m",
            "\u001b[1;31mModuleNotFoundError\u001b[0m                       Traceback (most recent call last)",
            "Cell \u001b[1;32mIn[8], line 6\u001b[0m\n\u001b[0;32m      4\u001b[0m \u001b[38;5;28;01mimport\u001b[39;00m\u001b[38;5;250m \u001b[39m\u001b[38;5;21;01mos\u001b[39;00m\n\u001b[0;32m      5\u001b[0m \u001b[38;5;28;01mimport\u001b[39;00m\u001b[38;5;250m \u001b[39m\u001b[38;5;21;01mmatplotlib\u001b[39;00m\u001b[38;5;21;01m.\u001b[39;00m\u001b[38;5;21;01mpyplot\u001b[39;00m\u001b[38;5;250m \u001b[39m\u001b[38;5;28;01mas\u001b[39;00m\u001b[38;5;250m \u001b[39m\u001b[38;5;21;01mplt\u001b[39;00m\n\u001b[1;32m----> 6\u001b[0m \u001b[38;5;28;01mimport\u001b[39;00m\u001b[38;5;250m \u001b[39m\u001b[38;5;21;01mseaborn\u001b[39;00m\u001b[38;5;250m \u001b[39m\u001b[38;5;28;01mas\u001b[39;00m\u001b[38;5;250m \u001b[39m\u001b[38;5;21;01msns\u001b[39;00m\n\u001b[0;32m      7\u001b[0m \u001b[38;5;28;01mimport\u001b[39;00m\u001b[38;5;250m \u001b[39m\u001b[38;5;21;01mrandom\u001b[39;00m\n\u001b[0;32m      8\u001b[0m \u001b[38;5;28;01mfrom\u001b[39;00m\u001b[38;5;250m \u001b[39m\u001b[38;5;21;01mglob\u001b[39;00m\u001b[38;5;250m \u001b[39m\u001b[38;5;28;01mimport\u001b[39;00m glob\n",
            "\u001b[1;31mModuleNotFoundError\u001b[0m: No module named 'seaborn'"
          ]
        }
      ],
      "source": [
        "# 01_data_exploration.ipynb\n",
        "\n",
        "# 📌 Step 1: Imports\n",
        "import os\n",
        "import matplotlib.pyplot as plt\n",
        "import seaborn as sns\n",
        "import random\n",
        "from glob import glob\n",
        "from PIL import Image\n",
        "\n",
        "# 📌 Step 2: Dataset paths\n",
        "RAW_DATA_PATH = \"C:\\\\Users\\\\Mukul\\\\Desktop\\\\Crop-Disease-Prediction\\\\data\\\\raw\\\\PlantVillage\"\n",
        "\n",
        "# 📌 Step 3: Explore classes\n",
        "classes = os.listdir(RAW_DATA_PATH)\n",
        "print(\"Total classes:\", len(classes))\n",
        "print(\"Example classes:\", classes[:10])\n",
        "\n",
        "# 📌 Step 4: Count images per class\n",
        "class_counts = {cls: len(os.listdir(os.path.join(RAW_DATA_PATH, cls))) for cls in classes}\n",
        "print(\"Class distribution:\", class_counts)\n",
        "\n",
        "# Plot distribution\n",
        "plt.figure(figsize=(12,6))\n",
        "sns.barplot(x=list(class_counts.keys()), y=list(class_counts.values()))\n",
        "plt.xticks(rotation=90)\n",
        "plt.title(\"Number of images per class\")\n",
        "plt.show()\n",
        "\n",
        "# 📌 Step 5: Show sample images\n",
        "def show_samples(class_name, num=5):\n",
        "    files = glob(os.path.join(RAW_DATA_PATH, class_name, \"*.jpg\"))\n",
        "    samples = random.sample(files, num)\n",
        "    plt.figure(figsize=(15, 5))\n",
        "    for i, file in enumerate(samples):\n",
        "        img = Image.open(file)\n",
        "        plt.subplot(1, num, i+1)\n",
        "        plt.imshow(img)\n",
        "        plt.axis(\"off\")\n",
        "        plt.title(class_name)\n",
        "    plt.show()\n",
        "\n",
        "show_samples(random.choice(classes))\n"
      ]
    }
  ],
  "metadata": {
    "colab": {
      "provenance": []
    },
    "kernelspec": {
      "display_name": "Python 3",
      "name": "python3"
    },
    "language_info": {
      "codemirror_mode": {
        "name": "ipython",
        "version": 3
      },
      "file_extension": ".py",
      "mimetype": "text/x-python",
      "name": "python",
      "nbconvert_exporter": "python",
      "pygments_lexer": "ipython3",
      "version": "3.8.0"
    }
  },
  "nbformat": 4,
  "nbformat_minor": 0
}
